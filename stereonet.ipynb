{
 "cells": [
  {
   "cell_type": "code",
   "execution_count": null,
   "metadata": {},
   "outputs": [],
   "source": [
    "import numpy as np\n",
    "import mplstereonet\n",
    "import matplotlib.pyplot as plt\n",
    "\n",
    "%matplotlib inline"
   ]
  },
  {
   "cell_type": "code",
   "execution_count": null,
   "metadata": {},
   "outputs": [],
   "source": [
    "strike, dip = 30, 60\n",
    "\n",
    "fig = plt.figure(figsize=(8, 8))\n",
    "ax = plt.axes(projection='stereonet')\n",
    "\n",
    "#add plane by strike and dip\n",
    "ax.plane(strike, dip, label='fault a')\n",
    "ax.plane(strike+180, dip, label='fault b')\n",
    "\n",
    "#add line by plunge and bearing\n",
    "ax.line(90, strike+90, label='$\\sigma_1$', color='red')\n",
    "ax.line([0, 0], [strike+90, strike-90], label='$\\sigma_3$', color='blue')\n",
    "ax.line([0, 0], [strike, strike+180], label='$\\sigma_2$', color='magenta')\n",
    "\n",
    "ax.grid()\n",
    "ax.legend()"
   ]
  }
 ],
 "metadata": {
  "kernelspec": {
   "display_name": "Python 3",
   "language": "python",
   "name": "python3"
  },
  "language_info": {
   "codemirror_mode": {
    "name": "ipython",
    "version": 3
   },
   "file_extension": ".py",
   "mimetype": "text/x-python",
   "name": "python",
   "nbconvert_exporter": "python",
   "pygments_lexer": "ipython3",
   "version": "3.7.3"
  }
 },
 "nbformat": 4,
 "nbformat_minor": 4
}
