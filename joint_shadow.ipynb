{
 "cells": [
  {
   "cell_type": "code",
   "execution_count": null,
   "metadata": {},
   "outputs": [],
   "source": [
    "import numpy as np\n",
    "import matplotlib.pyplot as plt\n",
    "from math import *\n",
    "from scipy.signal import find_peaks\n",
    "import time\n",
    "\n",
    "%matplotlib notebook"
   ]
  },
  {
   "cell_type": "code",
   "execution_count": null,
   "metadata": {},
   "outputs": [],
   "source": [
    "def plot_bed(length, thickness, stress):\n",
    "    #plot a bed with tensile stress \n",
    "    \n",
    "    fig, ax = plt.subplots(figsize=(10, 2))\n",
    "    ax.imshow(stress[np.newaxis,:], extent=(0, length, 0, thickness),\n",
    "             cmap='coolwarm', aspect='equal', vmax=stress.max(), vmin=0)\n",
    "\n",
    "    return fig, ax\n",
    "\n",
    "def update_bed(ax, length, thickness, stress, vmax=-1):\n",
    "    #update the bed with new tensile stress\n",
    "    \n",
    "    min_stress = stress.min()\n",
    "    peaks, _ = find_peaks(-stress, prominence=1)\n",
    "    for p in peaks:\n",
    "        plt.plot([p, p], [0, thickness], 'w-')\n",
    "    \n",
    "    vmax = max(vmax, stress.max())\n",
    "    im = ax.imshow(stress[np.newaxis,:], extent=(0, length, 0, thickness),\n",
    "             cmap='coolwarm', aspect='equal', vmax=vmax, vmin=0)\n",
    "\n",
    "def stress_from_joint(remote_stress, bed_thickness, x):\n",
    "    #calculate stress reduction with distance x away from a joint\n",
    "    \n",
    "    stress = remote_stress*(abs(x**3)*(x**2+(bed_thickness/2)**2)**(-3/2)-1)\n",
    "    return stress\n",
    "\n",
    "def stress_reduction_due_to_joint(position, remote_stress, bed_length, bed_thickness):\n",
    "    #calculate stress reduction in a bed due to a joint\n",
    "    \n",
    "    reduced_stress = np.array([])\n",
    "    for d in np.linspace(0, bed_length, bed_length):\n",
    "        s = stress_from_joint(remote_stress, bed_thickness, abs(position-d))\n",
    "        reduced_stress = np.append(reduced_stress, s)\n",
    "        \n",
    "    return reduced_stress"
   ]
  },
  {
   "cell_type": "code",
   "execution_count": null,
   "metadata": {},
   "outputs": [],
   "source": [
    "bed_tick = 1\n",
    "remote_stress = 1\n",
    "\n",
    "d = range(0, 20)\n",
    "s = []\n",
    "for i in d:\n",
    "    s.append(stress_from_joint(remote_stress, bed_tick, i))\n",
    "    \n",
    "plt.figure()\n",
    "plt.plot(d, s)\n",
    "plt.xlabel('distance from joint')\n",
    "plt.ylabel('stress reduction')"
   ]
  },
  {
   "cell_type": "code",
   "execution_count": null,
   "metadata": {},
   "outputs": [],
   "source": [
    "length = 50\n",
    "thickness = 5\n",
    "remote_stress = 20\n",
    "stress = np.linspace(remote_stress, remote_stress, length)\n",
    "_, ax = plot_bed(length, thickness, stress)\n",
    "stress = stress + stress_reduction_due_to_joint(20, remote_stress, length, thickness)\n",
    "update_bed(ax, length, thickness, stress, vmax=remote_stress)"
   ]
  },
  {
   "cell_type": "code",
   "execution_count": null,
   "metadata": {
    "scrolled": true
   },
   "outputs": [],
   "source": [
    "thickness = 10\n",
    "length = 200\n",
    "threshold = remote_stress * .9\n",
    "stress = np.linspace(remote_stress, remote_stress, length)\n",
    "fig, ax = plot_bed(length, thickness, stress)"
   ]
  },
  {
   "cell_type": "code",
   "execution_count": null,
   "metadata": {},
   "outputs": [],
   "source": [
    "while stress.max()> threshold:\n",
    "    locations = np.where(stress == stress.max())[0]\n",
    "    pos = np.random.choice(locations)\n",
    "    if stress[pos] > threshold:\n",
    "        stress = stress + stress_reduction_due_to_joint(pos, remote_stress, length, thickness)\n",
    "        update_bed(ax, length, thickness, stress, vmax=remote_stress)\n",
    "        fig.canvas.draw()\n",
    "        time.sleep(1)"
   ]
  }
 ],
 "metadata": {
  "kernelspec": {
   "display_name": "Python 3",
   "language": "python",
   "name": "python3"
  },
  "language_info": {
   "codemirror_mode": {
    "name": "ipython",
    "version": 3
   },
   "file_extension": ".py",
   "mimetype": "text/x-python",
   "name": "python",
   "nbconvert_exporter": "python",
   "pygments_lexer": "ipython3",
   "version": "3.7.3"
  }
 },
 "nbformat": 4,
 "nbformat_minor": 4
}
