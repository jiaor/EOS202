{
 "cells": [
  {
   "cell_type": "code",
   "execution_count": 1,
   "metadata": {},
   "outputs": [
    {
     "name": "stderr",
     "output_type": "stream",
     "text": [
      "/Users/jiao/miniconda/lib/python3.7/site-packages/xsimlab/variable.py:211: FutureWarning: Setting variable group using `group` is depreciated; use `groups`.\n",
      "  \"groups\": _as_group_tuple(groups, group),\n"
     ]
    }
   ],
   "source": [
    "import numpy as np\n",
    "import xsimlab as xs\n",
    "import xarray as xr\n",
    "\n",
    "import fastscape\n",
    "from fastscape.models import basic_model\n",
    "from fastscape.processes import TwoBlocksUplift\n",
    "from ipyfastscape import TopoViz3d"
   ]
  },
  {
   "cell_type": "code",
   "execution_count": 2,
   "metadata": {},
   "outputs": [],
   "source": [
    "uplift_rate = .2e-3 # meter per year\n",
    "uplift_duration = 6e6 # year\n",
    "model_length_x = 50e3 # meter\n",
    "model_length_y = 50e3 # meter\n",
    "\n",
    "model = basic_model.update_processes({'uplift': TwoBlocksUplift})"
   ]
  },
  {
   "cell_type": "code",
   "execution_count": 3,
   "metadata": {},
   "outputs": [
    {
     "name": "stderr",
     "output_type": "stream",
     "text": [
      "/Users/jiao/miniconda/lib/python3.7/site-packages/xsimlab/xr_accessor.py:582: FutureWarning: Setting clock dimensions or `None` as keys for `output_vars` is depreciated; use variable names instead (and clock dimensions or `None` as values, see docs).\n",
      "  ds.xsimlab._set_output_vars(model, output_vars)\n"
     ]
    }
   ],
   "source": [
    "in_ds = xs.create_setup(\n",
    "    model=model,\n",
    "    clocks={\n",
    "        'clock': np.arange(0, uplift_duration + 10e3, 10e3),\n",
    "        'time': np.arange(0, uplift_duration + 10e3, 10e3),\n",
    "    },\n",
    "    master_clock='time',\n",
    "    input_vars={\n",
    "        'grid__shape': [int(model_length_y/500), int(model_length_x/500)],\n",
    "        'grid__length': [model_length_y, model_length_x],\n",
    "        'boundary__status': ['fixed_value', 'looped', 'looped', 'looped'],\n",
    "        'uplift': {\n",
    "            'x_position': model_length_x*.25,\n",
    "            'rate_left': 0.,\n",
    "            'rate_right': uplift_rate\n",
    "        },\n",
    "        'spl': {\n",
    "            'k_coef': 2e-6,\n",
    "            'area_exp': 0.5,\n",
    "            'slope_exp': 1.\n",
    "        },\n",
    "        'diffusion__diffusivity': 1e-1\n",
    "    },\n",
    "    output_vars={'topography__elevation': 'time',\n",
    "                'drainage__area': 'time',\n",
    "        None: ['boundary__border',\n",
    "               'grid__x',\n",
    "               'grid__y',\n",
    "               'grid__spacing'],\n",
    "    }\n",
    ")"
   ]
  },
  {
   "cell_type": "code",
   "execution_count": 4,
   "metadata": {},
   "outputs": [
    {
     "data": {
      "application/vnd.jupyter.widget-view+json": {
       "model_id": "afc7684daeed48268ea348e4df29b032",
       "version_major": 2,
       "version_minor": 0
      },
      "text/plain": [
       "HBox(children=(IntProgress(value=0, description='initialize', max=602, style=ProgressStyle(description_width='…"
      ]
     },
     "metadata": {},
     "output_type": "display_data"
    },
    {
     "name": "stdout",
     "output_type": "stream",
     "text": [
      "\n"
     ]
    }
   ],
   "source": [
    "with xs.monitoring.ProgressBar():\n",
    "    output = (in_ds.xsimlab.run(model=model)\n",
    "               .set_index(x='grid__x', y='grid__y',\n",
    "                          border='boundary__border'))"
   ]
  },
  {
   "cell_type": "code",
   "execution_count": 5,
   "metadata": {},
   "outputs": [
    {
     "data": {
      "application/vnd.jupyter.widget-view+json": {
       "model_id": "0679a396812d4596a7e28edd51a9d323",
       "version_major": 2,
       "version_minor": 0
      },
      "text/plain": [
       "Output(layout=Layout(height='640px'))"
      ]
     },
     "metadata": {},
     "output_type": "display_data"
    }
   ],
   "source": [
    "v1 = TopoViz3d(output, canvas_height=600, time_dim='time')\n",
    "v1.show()"
   ]
  },
  {
   "cell_type": "code",
   "execution_count": null,
   "metadata": {},
   "outputs": [],
   "source": []
  }
 ],
 "metadata": {
  "kernelspec": {
   "display_name": "Python 3 (ipykernel)",
   "language": "python",
   "name": "python3"
  },
  "language_info": {
   "codemirror_mode": {
    "name": "ipython",
    "version": 3
   },
   "file_extension": ".py",
   "mimetype": "text/x-python",
   "name": "python",
   "nbconvert_exporter": "python",
   "pygments_lexer": "ipython3",
   "version": "3.7.3"
  }
 },
 "nbformat": 4,
 "nbformat_minor": 4
}
