{
 "cells": [
  {
   "cell_type": "code",
   "execution_count": null,
   "metadata": {},
   "outputs": [],
   "source": [
    "import numpy as np\n",
    "import xsimlab as xs\n",
    "import matplotlib.pyplot as plt\n",
    "import fastscape\n",
    "from fastscape.models import basic_model\n",
    "from fastscape.processes import (TwoBlocksUplift)"
   ]
  },
  {
   "cell_type": "code",
   "execution_count": null,
   "metadata": {},
   "outputs": [],
   "source": [
    "def produce_maps(output):\n",
    "    import hvplot.xarray\n",
    "    maps = output.topography__elevation.hvplot.image(\n",
    "                    x='x', y='y', clim=(0., output.topography__elevation.max()),\n",
    "                    width=650, height=500,\n",
    "                    cmap=plt.cm.terrain, groupby='time'\n",
    "                    )\n",
    "    \n",
    "    return maps\n",
    "\n",
    "def show_3d_topo(output, time=0):\n",
    "    import plotly.graph_objects as go\n",
    "    fig = go.Figure(data=[go.Surface(z=output.sel(time=time).topography__elevation,\n",
    "                                 x=output.sel(time=time).x,\n",
    "                                 y=output.sel(time=time).y,\n",
    "                                 colorscale='geyser'\n",
    "                                )\n",
    "                     ]\n",
    "               )\n",
    "\n",
    "    fig.update_layout(title='Fault scarp', autosize=False,\n",
    "                  width=1000, height=500,\n",
    "                  scene = {'aspectratio': {'x': 1, 'y': 1, 'z': .1}})\n",
    "    fig.show()"
   ]
  },
  {
   "cell_type": "code",
   "execution_count": null,
   "metadata": {},
   "outputs": [],
   "source": [
    "uplift_rate = .2e-3 # meter per year\n",
    "uplift_duration = 10e6 # year\n",
    "model_length_x = 1e5 # meter\n",
    "model_length_y = 1e5 # meter\n",
    "\n",
    "model = basic_model.update_processes({'uplift': TwoBlocksUplift})"
   ]
  },
  {
   "cell_type": "code",
   "execution_count": null,
   "metadata": {},
   "outputs": [],
   "source": [
    "in_ds = xs.create_setup(\n",
    "    model=model,\n",
    "    clocks={\n",
    "        'time': np.arange(0, uplift_duration + 10e3, 10e3),\n",
    "    },\n",
    "    master_clock='time',\n",
    "    input_vars={\n",
    "        'grid__shape': ('shape_yx', [int(model_length_y/500), int(model_length_x/500)]),\n",
    "        'grid__length': ('shape_yx', [model_length_y, model_length_x]),\n",
    "        'boundary__status': ('border', ['fixed_value', 'fixed_value', 'fixed_value', 'fixed_value']),\n",
    "        'uplift': {\n",
    "            'x_position': model_length_x*.25,\n",
    "            'rate_left': 0.,\n",
    "            'rate_right': uplift_rate\n",
    "        },\n",
    "        'spl': {\n",
    "            'k_coef': 2e-6,\n",
    "            'area_exp': 0.5,\n",
    "            'slope_exp': 1.\n",
    "        },\n",
    "        'diffusion__diffusivity': 1e-1\n",
    "    },\n",
    "    output_vars={\n",
    "        'time': ['topography__elevation'],\n",
    "        None: ['boundary__border',\n",
    "               'grid__x',\n",
    "               'grid__y',\n",
    "               'grid__spacing'],\n",
    "    }\n",
    ")"
   ]
  },
  {
   "cell_type": "code",
   "execution_count": null,
   "metadata": {},
   "outputs": [],
   "source": [
    "output = (in_ds.xsimlab.run(model=model)\n",
    "               .set_index(x='grid__x', y='grid__y',\n",
    "                          border='boundary__border'))"
   ]
  },
  {
   "cell_type": "code",
   "execution_count": null,
   "metadata": {},
   "outputs": [],
   "source": [
    "maps = produce_maps(output)\n",
    "maps"
   ]
  },
  {
   "cell_type": "code",
   "execution_count": null,
   "metadata": {},
   "outputs": [],
   "source": [
    "show_3d_topo(output, time=5e6)"
   ]
  }
 ],
 "metadata": {
  "kernelspec": {
   "display_name": "Python 3",
   "language": "python",
   "name": "python3"
  },
  "language_info": {
   "codemirror_mode": {
    "name": "ipython",
    "version": 3
   },
   "file_extension": ".py",
   "mimetype": "text/x-python",
   "name": "python",
   "nbconvert_exporter": "python",
   "pygments_lexer": "ipython3",
   "version": "3.7.3"
  }
 },
 "nbformat": 4,
 "nbformat_minor": 4
}
