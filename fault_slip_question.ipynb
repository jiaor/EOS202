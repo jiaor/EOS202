{
 "cells": [
  {
   "cell_type": "code",
   "execution_count": 1,
   "id": "english-milwaukee",
   "metadata": {},
   "outputs": [],
   "source": [
    "import plotly.graph_objects as go\n",
    "import numpy as np"
   ]
  },
  {
   "cell_type": "code",
   "execution_count": 2,
   "id": "62184dbc-d70a-4d36-b2e2-d2577a19acaa",
   "metadata": {},
   "outputs": [],
   "source": [
    "edge_x = [0, 0, 1, 1, 0, 0, 0, 1, 1, 0, np.nan, 0, 0, np.nan, 1, 1, np.nan, 1, 1]\n",
    "edge_y = [0, 1, 1, 0, 0, 0, 1, 1, 0, 0, np.nan, 1, 1, np.nan, 0, 0, np.nan, 1, 1]\n",
    "edge_z = [0, 0, 0, 0, 0, .5, .5, .5, .5, .5, np.nan, 0, .5, np.nan, 0, .5, np.nan, 0, .5]\n",
    "tiny = .001"
   ]
  },
  {
   "cell_type": "code",
   "execution_count": 12,
   "id": "633fda88-4c55-4d33-94b3-fb3ec7bf1de8",
   "metadata": {},
   "outputs": [],
   "source": [
    "block =  go.Mesh3d(\n",
    "        # 8 vertices of a cube\n",
    "        x=[0+tiny, 0+tiny, 1-tiny, 1-tiny, 0+tiny, 0+tiny, 1-tiny, 1-tiny],\n",
    "        y=[0+tiny, 1-tiny, 1-tiny, 0+tiny, 0+tiny, 1-tiny, 1-tiny, 0+tiny],\n",
    "        z=[0+tiny, 0+tiny, 0+tiny, 0+tiny, .5-tiny, .5-tiny, .5-tiny, .5-tiny],\n",
    "        # i, j and k give the vertices of triangles\n",
    "        i = [7, 0, 0, 0, 4, 4, 6, 6, 4, 0, 3, 2],\n",
    "        j = [3, 4, 1, 2, 5, 6, 5, 2, 0, 1, 6, 3],\n",
    "        k = [0, 7, 2, 3, 6, 7, 1, 1, 5, 5, 7, 6],\n",
    "        color = 'gainsboro',\n",
    "        opacity = .5,\n",
    "        flatshading = True\n",
    "    )\n",
    "\n",
    "bigger_block = go.Mesh3d(\n",
    "        # 8 vertices of a cube\n",
    "        x=[0-tiny, 0-tiny, 1+tiny, 1+tiny, 0-tiny, 0-tiny, 1+tiny, 1+tiny],\n",
    "        y=[0+tiny, 1-tiny, 1-tiny, 0+tiny, 0+tiny, 1-tiny, 1-tiny, 0+tiny],\n",
    "        z=[0+tiny, 0+tiny, 0+tiny, 0+tiny, .5-tiny, .5-tiny, .5-tiny, .5-tiny],\n",
    "        # i, j and k give the vertices of triangles\n",
    "        i = [7, 0, 0, 0, 4, 4, 6, 6, 4, 0, 3, 2],\n",
    "        j = [3, 4, 1, 2, 5, 6, 5, 2, 0, 1, 6, 3],\n",
    "        k = [0, 7, 2, 3, 6, 7, 1, 1, 5, 5, 7, 6],\n",
    "        color = 'gainsboro',\n",
    "        flatshading = True\n",
    "    )\n",
    "\n",
    "block_edge = go.Scatter3d(\n",
    "        # block edge\n",
    "        x = edge_x,\n",
    "        y = edge_y,\n",
    "        z = edge_z,\n",
    "        mode = 'lines',\n",
    "        line = dict(color = 'white')\n",
    "    )"
   ]
  },
  {
   "cell_type": "code",
   "execution_count": 34,
   "id": "370e3f70-a8c2-4ccd-9d76-ab46c690279d",
   "metadata": {},
   "outputs": [],
   "source": [
    "bed1 = go.Mesh3d(\n",
    "        # vertical layer\n",
    "        x=[0, 0, 1, 1, 0, 0, 1, 1],\n",
    "        y=[.7, .8, .8, .7, .7, .8, .8, .7],\n",
    "        z=[0, 0, 0, 0, .5, .5, .5, .5],\n",
    "        # i, j and k give the vertices of triangles\n",
    "        i = [7, 0, 0, 0, 4, 4, 6, 6, 4, 0, 3, 2],\n",
    "        j = [3, 4, 1, 2, 5, 6, 5, 2, 0, 1, 6, 3],\n",
    "        k = [0, 7, 2, 3, 6, 7, 1, 1, 5, 5, 7, 6],\n",
    "        color = 'magenta',\n",
    "        flatshading = True\n",
    "    )\n",
    "bed1_eroded = go.Mesh3d(\n",
    "        # vertical layer\n",
    "        x=[.5, .5, 1, 1, .6, .6, 1, 1],\n",
    "        y=[.7, .8, .8, .7, .7, .8, .8, .7],\n",
    "        z=[.5, .5, .5, .5, .6732, .6732, .6732, .6732],\n",
    "        # i, j and k give the vertices of triangles\n",
    "        i = [7, 0, 0, 0, 4, 4, 6, 6, 4, 0, 3, 2],\n",
    "        j = [3, 4, 1, 2, 5, 6, 5, 2, 0, 1, 6, 3],\n",
    "        k = [0, 7, 2, 3, 6, 7, 1, 1, 5, 5, 7, 6],\n",
    "        color = 'magenta',\n",
    "        flatshading = True\n",
    "    )\n",
    "\n",
    "bed2a = go.Mesh3d(\n",
    "        # layer dipping 60°\n",
    "        x=[0, 0, .211, .211, 0, 0, .5, .5],\n",
    "        y=[.39, .49, .49, .39, .1, .2, .2, .1],\n",
    "        z=[0, 0, 0, 0, .5, .5, .5, .5],\n",
    "        # i, j and k give the vertices of triangles\n",
    "        i = [7, 0, 0, 0, 4, 4, 6, 6, 4, 0, 3, 2],\n",
    "        j = [3, 4, 1, 2, 5, 6, 5, 2, 0, 1, 6, 3],\n",
    "        k = [0, 7, 2, 3, 6, 7, 1, 1, 5, 5, 7, 6],\n",
    "        color = 'cyan',\n",
    "        flatshading = True\n",
    "    )\n",
    "bed2b = go.Mesh3d(\n",
    "        # layer dipping 60°\n",
    "        x=[.211, .211, 1, 1, .5, .5, 1, 1],\n",
    "        y=[.49, .59, .59, .49, .2, .3, .3, .2],\n",
    "        z=[0, 0, 0, 0, .5, .5, .5, .5],\n",
    "        # i, j and k give the vertices of triangles\n",
    "        i = [7, 0, 0, 0, 4, 4, 6, 6, 4, 0, 3, 2],\n",
    "        j = [3, 4, 1, 2, 5, 6, 5, 2, 0, 1, 6, 3],\n",
    "        k = [0, 7, 2, 3, 6, 7, 1, 1, 5, 5, 7, 6],\n",
    "        color = 'cyan',\n",
    "        flatshading = True\n",
    "    )\n",
    "\n",
    "bed2b_eroded = go.Mesh3d(\n",
    "        # layer dipping 60°\n",
    "        x=[.5, .5, 1, 1, .6, .6, 1, 1],\n",
    "        y=[.2, .3, .3, .2, .1, .2, .2, .1],\n",
    "        z=[.5, .5, .5, .5, .6732, .6732, .6732, .6732],\n",
    "        # i, j and k give the vertices of triangles\n",
    "        i = [7, 0, 0, 0, 4, 4, 6, 6, 4, 0, 3, 2],\n",
    "        j = [3, 4, 1, 2, 5, 6, 5, 2, 0, 1, 6, 3],\n",
    "        k = [0, 7, 2, 3, 6, 7, 1, 1, 5, 5, 7, 6],\n",
    "        color = 'cyan',\n",
    "        flatshading = True\n",
    "    )"
   ]
  },
  {
   "cell_type": "code",
   "execution_count": 30,
   "id": "1f8a7cf6-f577-4754-8239-e9d3a0672f69",
   "metadata": {},
   "outputs": [],
   "source": [
    "fault_plane = go.Surface(\n",
    "        # fault plane\n",
    "        x = [.211, .6],\n",
    "        y = [0-.1, 1+.1],\n",
    "        z = [[0, .6732],\n",
    "            [0, .6732]],\n",
    "        surfacecolor = [1, 1, 1, 1],\n",
    "        showscale = False,\n",
    "        opacity = .5\n",
    "    )\n",
    "\n",
    "fault_trace =  go.Scatter3d(\n",
    "        # fault_trace\n",
    "        x = [.5, .5],\n",
    "        y = [0, 1],\n",
    "        z = [.5+tiny, .5+tiny],\n",
    "        mode = 'lines',\n",
    "        line = dict(color = 'red', width=5)\n",
    "    )"
   ]
  },
  {
   "cell_type": "code",
   "execution_count": 6,
   "id": "01e5c4c3-5201-402a-bba7-756f899b8447",
   "metadata": {},
   "outputs": [],
   "source": [
    "dip_notes =  go.Scatter3d(\n",
    "        # dip\n",
    "        x = [.2, .3, np.nan, .25, .25, np.nan, .7, .8, np.nan, .75, .75],\n",
    "        y = [.15, .15, np.nan, .15, .17, np.nan, .25, .25, np.nan, .25, .27],\n",
    "        z = [.5+tiny, .5+tiny, np.nan, .5+tiny, .5+tiny, np.nan, .5+tiny, .5+tiny, np.nan, .5+tiny, .5+tiny],\n",
    "        mode = 'lines+text',\n",
    "        line = dict(color = 'black', width=2),\n",
    "        text = ['', '', '', '60', '', '', '', '', '', '60']\n",
    "    )\n",
    "\n",
    "dip_notes1 =  go.Scatter3d(\n",
    "        # dip\n",
    "        x = [.2, .3, np.nan, .25, .25, np.nan, .7, .8, np.nan, .75, .75],\n",
    "        y = [.75, .75, np.nan, .73, .77, np.nan, .75, .75, np.nan, .73, .77],\n",
    "        z = [.5+tiny, .5+tiny, np.nan, .5+tiny, .5+tiny, np.nan, .5+tiny, .5+tiny, np.nan, .5+tiny, .5+tiny],\n",
    "        mode = 'lines',\n",
    "        line = dict(color = 'black', width=2),\n",
    "    )\n",
    "\n",
    "north_arrow = go.Scatter3d(\n",
    "        # north arrow\n",
    "        x = [.1, .12, .12, .14, .14, .16, .13, .1],\n",
    "        y = [.9, .9, .8, .8, .9, .9, 1, .9],\n",
    "        z = [.55, .55, .55, .55, .55, .55, .55, .55],\n",
    "        mode = 'lines+text',\n",
    "        line = dict(color = 'black', width=2),\n",
    "        text = ['','','','','','','N']\n",
    "    )\n",
    "\n",
    "map_scale = go.Scatter3d(\n",
    "        # north arrow\n",
    "        x = [.7, .8, .9],\n",
    "        y = [1.05, 1.05, 1.05],\n",
    "        z = [.55, .55, .55],\n",
    "        mode = 'lines+text',\n",
    "        line = dict(color = 'black', width=5),\n",
    "        text = ['', '100 m', '']\n",
    "    )"
   ]
  },
  {
   "cell_type": "code",
   "execution_count": 35,
   "id": "d3d0a07c-e3e1-4008-a0a4-b5da0781cc59",
   "metadata": {},
   "outputs": [
    {
     "data": {
      "application/vnd.plotly.v1+json": {
       "config": {
        "plotlyServerURL": "https://plot.ly"
       },
       "data": [
        {
         "color": "gainsboro",
         "flatshading": true,
         "i": [
          7,
          0,
          0,
          0,
          4,
          4,
          6,
          6,
          4,
          0,
          3,
          2
         ],
         "j": [
          3,
          4,
          1,
          2,
          5,
          6,
          5,
          2,
          0,
          1,
          6,
          3
         ],
         "k": [
          0,
          7,
          2,
          3,
          6,
          7,
          1,
          1,
          5,
          5,
          7,
          6
         ],
         "opacity": 0.5,
         "type": "mesh3d",
         "x": [
          0.001,
          0.001,
          0.999,
          0.999,
          0.001,
          0.001,
          0.999,
          0.999
         ],
         "y": [
          0.001,
          0.999,
          0.999,
          0.001,
          0.001,
          0.999,
          0.999,
          0.001
         ],
         "z": [
          0.001,
          0.001,
          0.001,
          0.001,
          0.499,
          0.499,
          0.499,
          0.499
         ]
        },
        {
         "line": {
          "color": "white"
         },
         "mode": "lines",
         "type": "scatter3d",
         "x": [
          0,
          0,
          1,
          1,
          0,
          0,
          0,
          1,
          1,
          0,
          null,
          0,
          0,
          null,
          1,
          1,
          null,
          1,
          1
         ],
         "y": [
          0,
          1,
          1,
          0,
          0,
          0,
          1,
          1,
          0,
          0,
          null,
          1,
          1,
          null,
          0,
          0,
          null,
          1,
          1
         ],
         "z": [
          0,
          0,
          0,
          0,
          0,
          0.5,
          0.5,
          0.5,
          0.5,
          0.5,
          null,
          0,
          0.5,
          null,
          0,
          0.5,
          null,
          0,
          0.5
         ]
        },
        {
         "color": "magenta",
         "flatshading": true,
         "i": [
          7,
          0,
          0,
          0,
          4,
          4,
          6,
          6,
          4,
          0,
          3,
          2
         ],
         "j": [
          3,
          4,
          1,
          2,
          5,
          6,
          5,
          2,
          0,
          1,
          6,
          3
         ],
         "k": [
          0,
          7,
          2,
          3,
          6,
          7,
          1,
          1,
          5,
          5,
          7,
          6
         ],
         "type": "mesh3d",
         "x": [
          0,
          0,
          1,
          1,
          0,
          0,
          1,
          1
         ],
         "y": [
          0.7,
          0.8,
          0.8,
          0.7,
          0.7,
          0.8,
          0.8,
          0.7
         ],
         "z": [
          0,
          0,
          0,
          0,
          0.5,
          0.5,
          0.5,
          0.5
         ]
        },
        {
         "color": "cyan",
         "flatshading": true,
         "i": [
          7,
          0,
          0,
          0,
          4,
          4,
          6,
          6,
          4,
          0,
          3,
          2
         ],
         "j": [
          3,
          4,
          1,
          2,
          5,
          6,
          5,
          2,
          0,
          1,
          6,
          3
         ],
         "k": [
          0,
          7,
          2,
          3,
          6,
          7,
          1,
          1,
          5,
          5,
          7,
          6
         ],
         "type": "mesh3d",
         "x": [
          0,
          0,
          0.211,
          0.211,
          0,
          0,
          0.5,
          0.5
         ],
         "y": [
          0.39,
          0.49,
          0.49,
          0.39,
          0.1,
          0.2,
          0.2,
          0.1
         ],
         "z": [
          0,
          0,
          0,
          0,
          0.5,
          0.5,
          0.5,
          0.5
         ]
        },
        {
         "color": "cyan",
         "flatshading": true,
         "i": [
          7,
          0,
          0,
          0,
          4,
          4,
          6,
          6,
          4,
          0,
          3,
          2
         ],
         "j": [
          3,
          4,
          1,
          2,
          5,
          6,
          5,
          2,
          0,
          1,
          6,
          3
         ],
         "k": [
          0,
          7,
          2,
          3,
          6,
          7,
          1,
          1,
          5,
          5,
          7,
          6
         ],
         "type": "mesh3d",
         "x": [
          0.211,
          0.211,
          1,
          1,
          0.5,
          0.5,
          1,
          1
         ],
         "y": [
          0.49,
          0.59,
          0.59,
          0.49,
          0.2,
          0.3,
          0.3,
          0.2
         ],
         "z": [
          0,
          0,
          0,
          0,
          0.5,
          0.5,
          0.5,
          0.5
         ]
        },
        {
         "color": "magenta",
         "flatshading": true,
         "i": [
          7,
          0,
          0,
          0,
          4,
          4,
          6,
          6,
          4,
          0,
          3,
          2
         ],
         "j": [
          3,
          4,
          1,
          2,
          5,
          6,
          5,
          2,
          0,
          1,
          6,
          3
         ],
         "k": [
          0,
          7,
          2,
          3,
          6,
          7,
          1,
          1,
          5,
          5,
          7,
          6
         ],
         "type": "mesh3d",
         "x": [
          0.5,
          0.5,
          1,
          1,
          0.6,
          0.6,
          1,
          1
         ],
         "y": [
          0.7,
          0.8,
          0.8,
          0.7,
          0.7,
          0.8,
          0.8,
          0.7
         ],
         "z": [
          0.5,
          0.5,
          0.5,
          0.5,
          0.6732,
          0.6732,
          0.6732,
          0.6732
         ]
        },
        {
         "color": "cyan",
         "flatshading": true,
         "i": [
          7,
          0,
          0,
          0,
          4,
          4,
          6,
          6,
          4,
          0,
          3,
          2
         ],
         "j": [
          3,
          4,
          1,
          2,
          5,
          6,
          5,
          2,
          0,
          1,
          6,
          3
         ],
         "k": [
          0,
          7,
          2,
          3,
          6,
          7,
          1,
          1,
          5,
          5,
          7,
          6
         ],
         "type": "mesh3d",
         "x": [
          0.5,
          0.5,
          1,
          1,
          0.6,
          0.6,
          1,
          1
         ],
         "y": [
          0.2,
          0.3,
          0.3,
          0.2,
          0.1,
          0.2,
          0.2,
          0.1
         ],
         "z": [
          0.5,
          0.5,
          0.5,
          0.5,
          0.6732,
          0.6732,
          0.6732,
          0.6732
         ]
        },
        {
         "opacity": 0.5,
         "showscale": false,
         "surfacecolor": [
          1,
          1,
          1,
          1
         ],
         "type": "surface",
         "x": [
          0.211,
          0.6
         ],
         "y": [
          -0.1,
          1.1
         ],
         "z": [
          [
           0,
           0.6732
          ],
          [
           0,
           0.6732
          ]
         ]
        },
        {
         "line": {
          "color": "red",
          "width": 5
         },
         "mode": "lines",
         "type": "scatter3d",
         "x": [
          0.5,
          0.5
         ],
         "y": [
          0,
          1
         ],
         "z": [
          0.501,
          0.501
         ]
        },
        {
         "line": {
          "color": "black",
          "width": 2
         },
         "mode": "lines+text",
         "text": [
          "",
          "",
          "",
          "60",
          "",
          "",
          "",
          "",
          "",
          "60"
         ],
         "type": "scatter3d",
         "x": [
          0.2,
          0.3,
          null,
          0.25,
          0.25,
          null,
          0.7,
          0.8,
          null,
          0.75,
          0.75
         ],
         "y": [
          0.15,
          0.15,
          null,
          0.15,
          0.17,
          null,
          0.25,
          0.25,
          null,
          0.25,
          0.27
         ],
         "z": [
          0.501,
          0.501,
          null,
          0.501,
          0.501,
          null,
          0.501,
          0.501,
          null,
          0.501,
          0.501
         ]
        },
        {
         "line": {
          "color": "black",
          "width": 2
         },
         "mode": "lines",
         "type": "scatter3d",
         "x": [
          0.2,
          0.3,
          null,
          0.25,
          0.25,
          null,
          0.7,
          0.8,
          null,
          0.75,
          0.75
         ],
         "y": [
          0.75,
          0.75,
          null,
          0.73,
          0.77,
          null,
          0.75,
          0.75,
          null,
          0.73,
          0.77
         ],
         "z": [
          0.501,
          0.501,
          null,
          0.501,
          0.501,
          null,
          0.501,
          0.501,
          null,
          0.501,
          0.501
         ]
        },
        {
         "line": {
          "color": "black",
          "width": 2
         },
         "mode": "lines+text",
         "text": [
          "",
          "",
          "",
          "",
          "",
          "",
          "N"
         ],
         "type": "scatter3d",
         "x": [
          0.1,
          0.12,
          0.12,
          0.14,
          0.14,
          0.16,
          0.13,
          0.1
         ],
         "y": [
          0.9,
          0.9,
          0.8,
          0.8,
          0.9,
          0.9,
          1,
          0.9
         ],
         "z": [
          0.55,
          0.55,
          0.55,
          0.55,
          0.55,
          0.55,
          0.55,
          0.55
         ]
        },
        {
         "line": {
          "color": "black",
          "width": 5
         },
         "mode": "lines+text",
         "text": [
          "",
          "100 m",
          ""
         ],
         "type": "scatter3d",
         "x": [
          0.7,
          0.8,
          0.9
         ],
         "y": [
          1.05,
          1.05,
          1.05
         ],
         "z": [
          0.55,
          0.55,
          0.55
         ]
        }
       ],
       "layout": {
        "autosize": true,
        "margin": {
         "b": 0,
         "l": 0,
         "r": 0,
         "t": 0
        },
        "scene": {
         "aspectmode": "auto",
         "aspectratio": {
          "x": 1.0737212514167258,
          "y": 1.288465501700071,
          "z": 0.7228291464537399
         },
         "camera": {
          "center": {
           "x": 0,
           "y": 0,
           "z": 0
          },
          "eye": {
           "x": -0.8168742658644073,
           "y": 0.4004753605884846,
           "z": 1.47365490000757
          },
          "projection": {
           "type": "perspective"
          },
          "up": {
           "x": -0.05129702038084764,
           "y": -0.9705628339294167,
           "z": 0.23532190950896759
          }
         },
         "xaxis": {
          "type": "linear",
          "visible": false
         },
         "yaxis": {
          "type": "linear",
          "visible": false
         },
         "zaxis": {
          "type": "linear",
          "visible": false
         }
        },
        "showlegend": false,
        "template": {
         "data": {
          "bar": [
           {
            "error_x": {
             "color": "#2a3f5f"
            },
            "error_y": {
             "color": "#2a3f5f"
            },
            "marker": {
             "line": {
              "color": "#E5ECF6",
              "width": 0.5
             },
             "pattern": {
              "fillmode": "overlay",
              "size": 10,
              "solidity": 0.2
             }
            },
            "type": "bar"
           }
          ],
          "barpolar": [
           {
            "marker": {
             "line": {
              "color": "#E5ECF6",
              "width": 0.5
             },
             "pattern": {
              "fillmode": "overlay",
              "size": 10,
              "solidity": 0.2
             }
            },
            "type": "barpolar"
           }
          ],
          "carpet": [
           {
            "aaxis": {
             "endlinecolor": "#2a3f5f",
             "gridcolor": "white",
             "linecolor": "white",
             "minorgridcolor": "white",
             "startlinecolor": "#2a3f5f"
            },
            "baxis": {
             "endlinecolor": "#2a3f5f",
             "gridcolor": "white",
             "linecolor": "white",
             "minorgridcolor": "white",
             "startlinecolor": "#2a3f5f"
            },
            "type": "carpet"
           }
          ],
          "choropleth": [
           {
            "colorbar": {
             "outlinewidth": 0,
             "ticks": ""
            },
            "type": "choropleth"
           }
          ],
          "contour": [
           {
            "colorbar": {
             "outlinewidth": 0,
             "ticks": ""
            },
            "colorscale": [
             [
              0,
              "#0d0887"
             ],
             [
              0.1111111111111111,
              "#46039f"
             ],
             [
              0.2222222222222222,
              "#7201a8"
             ],
             [
              0.3333333333333333,
              "#9c179e"
             ],
             [
              0.4444444444444444,
              "#bd3786"
             ],
             [
              0.5555555555555556,
              "#d8576b"
             ],
             [
              0.6666666666666666,
              "#ed7953"
             ],
             [
              0.7777777777777778,
              "#fb9f3a"
             ],
             [
              0.8888888888888888,
              "#fdca26"
             ],
             [
              1,
              "#f0f921"
             ]
            ],
            "type": "contour"
           }
          ],
          "contourcarpet": [
           {
            "colorbar": {
             "outlinewidth": 0,
             "ticks": ""
            },
            "type": "contourcarpet"
           }
          ],
          "heatmap": [
           {
            "colorbar": {
             "outlinewidth": 0,
             "ticks": ""
            },
            "colorscale": [
             [
              0,
              "#0d0887"
             ],
             [
              0.1111111111111111,
              "#46039f"
             ],
             [
              0.2222222222222222,
              "#7201a8"
             ],
             [
              0.3333333333333333,
              "#9c179e"
             ],
             [
              0.4444444444444444,
              "#bd3786"
             ],
             [
              0.5555555555555556,
              "#d8576b"
             ],
             [
              0.6666666666666666,
              "#ed7953"
             ],
             [
              0.7777777777777778,
              "#fb9f3a"
             ],
             [
              0.8888888888888888,
              "#fdca26"
             ],
             [
              1,
              "#f0f921"
             ]
            ],
            "type": "heatmap"
           }
          ],
          "heatmapgl": [
           {
            "colorbar": {
             "outlinewidth": 0,
             "ticks": ""
            },
            "colorscale": [
             [
              0,
              "#0d0887"
             ],
             [
              0.1111111111111111,
              "#46039f"
             ],
             [
              0.2222222222222222,
              "#7201a8"
             ],
             [
              0.3333333333333333,
              "#9c179e"
             ],
             [
              0.4444444444444444,
              "#bd3786"
             ],
             [
              0.5555555555555556,
              "#d8576b"
             ],
             [
              0.6666666666666666,
              "#ed7953"
             ],
             [
              0.7777777777777778,
              "#fb9f3a"
             ],
             [
              0.8888888888888888,
              "#fdca26"
             ],
             [
              1,
              "#f0f921"
             ]
            ],
            "type": "heatmapgl"
           }
          ],
          "histogram": [
           {
            "marker": {
             "pattern": {
              "fillmode": "overlay",
              "size": 10,
              "solidity": 0.2
             }
            },
            "type": "histogram"
           }
          ],
          "histogram2d": [
           {
            "colorbar": {
             "outlinewidth": 0,
             "ticks": ""
            },
            "colorscale": [
             [
              0,
              "#0d0887"
             ],
             [
              0.1111111111111111,
              "#46039f"
             ],
             [
              0.2222222222222222,
              "#7201a8"
             ],
             [
              0.3333333333333333,
              "#9c179e"
             ],
             [
              0.4444444444444444,
              "#bd3786"
             ],
             [
              0.5555555555555556,
              "#d8576b"
             ],
             [
              0.6666666666666666,
              "#ed7953"
             ],
             [
              0.7777777777777778,
              "#fb9f3a"
             ],
             [
              0.8888888888888888,
              "#fdca26"
             ],
             [
              1,
              "#f0f921"
             ]
            ],
            "type": "histogram2d"
           }
          ],
          "histogram2dcontour": [
           {
            "colorbar": {
             "outlinewidth": 0,
             "ticks": ""
            },
            "colorscale": [
             [
              0,
              "#0d0887"
             ],
             [
              0.1111111111111111,
              "#46039f"
             ],
             [
              0.2222222222222222,
              "#7201a8"
             ],
             [
              0.3333333333333333,
              "#9c179e"
             ],
             [
              0.4444444444444444,
              "#bd3786"
             ],
             [
              0.5555555555555556,
              "#d8576b"
             ],
             [
              0.6666666666666666,
              "#ed7953"
             ],
             [
              0.7777777777777778,
              "#fb9f3a"
             ],
             [
              0.8888888888888888,
              "#fdca26"
             ],
             [
              1,
              "#f0f921"
             ]
            ],
            "type": "histogram2dcontour"
           }
          ],
          "mesh3d": [
           {
            "colorbar": {
             "outlinewidth": 0,
             "ticks": ""
            },
            "type": "mesh3d"
           }
          ],
          "parcoords": [
           {
            "line": {
             "colorbar": {
              "outlinewidth": 0,
              "ticks": ""
             }
            },
            "type": "parcoords"
           }
          ],
          "pie": [
           {
            "automargin": true,
            "type": "pie"
           }
          ],
          "scatter": [
           {
            "marker": {
             "colorbar": {
              "outlinewidth": 0,
              "ticks": ""
             }
            },
            "type": "scatter"
           }
          ],
          "scatter3d": [
           {
            "line": {
             "colorbar": {
              "outlinewidth": 0,
              "ticks": ""
             }
            },
            "marker": {
             "colorbar": {
              "outlinewidth": 0,
              "ticks": ""
             }
            },
            "type": "scatter3d"
           }
          ],
          "scattercarpet": [
           {
            "marker": {
             "colorbar": {
              "outlinewidth": 0,
              "ticks": ""
             }
            },
            "type": "scattercarpet"
           }
          ],
          "scattergeo": [
           {
            "marker": {
             "colorbar": {
              "outlinewidth": 0,
              "ticks": ""
             }
            },
            "type": "scattergeo"
           }
          ],
          "scattergl": [
           {
            "marker": {
             "colorbar": {
              "outlinewidth": 0,
              "ticks": ""
             }
            },
            "type": "scattergl"
           }
          ],
          "scattermapbox": [
           {
            "marker": {
             "colorbar": {
              "outlinewidth": 0,
              "ticks": ""
             }
            },
            "type": "scattermapbox"
           }
          ],
          "scatterpolar": [
           {
            "marker": {
             "colorbar": {
              "outlinewidth": 0,
              "ticks": ""
             }
            },
            "type": "scatterpolar"
           }
          ],
          "scatterpolargl": [
           {
            "marker": {
             "colorbar": {
              "outlinewidth": 0,
              "ticks": ""
             }
            },
            "type": "scatterpolargl"
           }
          ],
          "scatterternary": [
           {
            "marker": {
             "colorbar": {
              "outlinewidth": 0,
              "ticks": ""
             }
            },
            "type": "scatterternary"
           }
          ],
          "surface": [
           {
            "colorbar": {
             "outlinewidth": 0,
             "ticks": ""
            },
            "colorscale": [
             [
              0,
              "#0d0887"
             ],
             [
              0.1111111111111111,
              "#46039f"
             ],
             [
              0.2222222222222222,
              "#7201a8"
             ],
             [
              0.3333333333333333,
              "#9c179e"
             ],
             [
              0.4444444444444444,
              "#bd3786"
             ],
             [
              0.5555555555555556,
              "#d8576b"
             ],
             [
              0.6666666666666666,
              "#ed7953"
             ],
             [
              0.7777777777777778,
              "#fb9f3a"
             ],
             [
              0.8888888888888888,
              "#fdca26"
             ],
             [
              1,
              "#f0f921"
             ]
            ],
            "type": "surface"
           }
          ],
          "table": [
           {
            "cells": {
             "fill": {
              "color": "#EBF0F8"
             },
             "line": {
              "color": "white"
             }
            },
            "header": {
             "fill": {
              "color": "#C8D4E3"
             },
             "line": {
              "color": "white"
             }
            },
            "type": "table"
           }
          ]
         },
         "layout": {
          "annotationdefaults": {
           "arrowcolor": "#2a3f5f",
           "arrowhead": 0,
           "arrowwidth": 1
          },
          "autotypenumbers": "strict",
          "coloraxis": {
           "colorbar": {
            "outlinewidth": 0,
            "ticks": ""
           }
          },
          "colorscale": {
           "diverging": [
            [
             0,
             "#8e0152"
            ],
            [
             0.1,
             "#c51b7d"
            ],
            [
             0.2,
             "#de77ae"
            ],
            [
             0.3,
             "#f1b6da"
            ],
            [
             0.4,
             "#fde0ef"
            ],
            [
             0.5,
             "#f7f7f7"
            ],
            [
             0.6,
             "#e6f5d0"
            ],
            [
             0.7,
             "#b8e186"
            ],
            [
             0.8,
             "#7fbc41"
            ],
            [
             0.9,
             "#4d9221"
            ],
            [
             1,
             "#276419"
            ]
           ],
           "sequential": [
            [
             0,
             "#0d0887"
            ],
            [
             0.1111111111111111,
             "#46039f"
            ],
            [
             0.2222222222222222,
             "#7201a8"
            ],
            [
             0.3333333333333333,
             "#9c179e"
            ],
            [
             0.4444444444444444,
             "#bd3786"
            ],
            [
             0.5555555555555556,
             "#d8576b"
            ],
            [
             0.6666666666666666,
             "#ed7953"
            ],
            [
             0.7777777777777778,
             "#fb9f3a"
            ],
            [
             0.8888888888888888,
             "#fdca26"
            ],
            [
             1,
             "#f0f921"
            ]
           ],
           "sequentialminus": [
            [
             0,
             "#0d0887"
            ],
            [
             0.1111111111111111,
             "#46039f"
            ],
            [
             0.2222222222222222,
             "#7201a8"
            ],
            [
             0.3333333333333333,
             "#9c179e"
            ],
            [
             0.4444444444444444,
             "#bd3786"
            ],
            [
             0.5555555555555556,
             "#d8576b"
            ],
            [
             0.6666666666666666,
             "#ed7953"
            ],
            [
             0.7777777777777778,
             "#fb9f3a"
            ],
            [
             0.8888888888888888,
             "#fdca26"
            ],
            [
             1,
             "#f0f921"
            ]
           ]
          },
          "colorway": [
           "#636efa",
           "#EF553B",
           "#00cc96",
           "#ab63fa",
           "#FFA15A",
           "#19d3f3",
           "#FF6692",
           "#B6E880",
           "#FF97FF",
           "#FECB52"
          ],
          "font": {
           "color": "#2a3f5f"
          },
          "geo": {
           "bgcolor": "white",
           "lakecolor": "white",
           "landcolor": "#E5ECF6",
           "showlakes": true,
           "showland": true,
           "subunitcolor": "white"
          },
          "hoverlabel": {
           "align": "left"
          },
          "hovermode": "closest",
          "mapbox": {
           "style": "light"
          },
          "paper_bgcolor": "white",
          "plot_bgcolor": "#E5ECF6",
          "polar": {
           "angularaxis": {
            "gridcolor": "white",
            "linecolor": "white",
            "ticks": ""
           },
           "bgcolor": "#E5ECF6",
           "radialaxis": {
            "gridcolor": "white",
            "linecolor": "white",
            "ticks": ""
           }
          },
          "scene": {
           "xaxis": {
            "backgroundcolor": "#E5ECF6",
            "gridcolor": "white",
            "gridwidth": 2,
            "linecolor": "white",
            "showbackground": true,
            "ticks": "",
            "zerolinecolor": "white"
           },
           "yaxis": {
            "backgroundcolor": "#E5ECF6",
            "gridcolor": "white",
            "gridwidth": 2,
            "linecolor": "white",
            "showbackground": true,
            "ticks": "",
            "zerolinecolor": "white"
           },
           "zaxis": {
            "backgroundcolor": "#E5ECF6",
            "gridcolor": "white",
            "gridwidth": 2,
            "linecolor": "white",
            "showbackground": true,
            "ticks": "",
            "zerolinecolor": "white"
           }
          },
          "shapedefaults": {
           "line": {
            "color": "#2a3f5f"
           }
          },
          "ternary": {
           "aaxis": {
            "gridcolor": "white",
            "linecolor": "white",
            "ticks": ""
           },
           "baxis": {
            "gridcolor": "white",
            "linecolor": "white",
            "ticks": ""
           },
           "bgcolor": "#E5ECF6",
           "caxis": {
            "gridcolor": "white",
            "linecolor": "white",
            "ticks": ""
           }
          },
          "title": {
           "x": 0.05
          },
          "xaxis": {
           "automargin": true,
           "gridcolor": "white",
           "linecolor": "white",
           "ticks": "",
           "title": {
            "standoff": 15
           },
           "zerolinecolor": "white",
           "zerolinewidth": 2
          },
          "yaxis": {
           "automargin": true,
           "gridcolor": "white",
           "linecolor": "white",
           "ticks": "",
           "title": {
            "standoff": 15
           },
           "zerolinecolor": "white",
           "zerolinewidth": 2
          }
         }
        }
       }
      },
      "image/png": "[encoded data removed]",
      "text/html": [
       "<div>                            <div id=\"a9bb1345-82b0-4333-af7f-d003c895970b\" class=\"plotly-graph-div\" style=\"height:525px; width:100%;\"></div>            <script type=\"text/javascript\">                require([\"plotly\"], function(Plotly) {                    window.PLOTLYENV=window.PLOTLYENV || {};                                    if (document.getElementById(\"a9bb1345-82b0-4333-af7f-d003c895970b\")) {                    Plotly.newPlot(                        \"a9bb1345-82b0-4333-af7f-d003c895970b\",                        [{\"color\":\"gainsboro\",\"flatshading\":true,\"i\":[7,0,0,0,4,4,6,6,4,0,3,2],\"j\":[3,4,1,2,5,6,5,2,0,1,6,3],\"k\":[0,7,2,3,6,7,1,1,5,5,7,6],\"opacity\":0.5,\"x\":[0.001,0.001,0.999,0.999,0.001,0.001,0.999,0.999],\"y\":[0.001,0.999,0.999,0.001,0.001,0.999,0.999,0.001],\"z\":[0.001,0.001,0.001,0.001,0.499,0.499,0.499,0.499],\"type\":\"mesh3d\"},{\"line\":{\"color\":\"white\"},\"mode\":\"lines\",\"x\":[0,0,1,1,0,0,0,1,1,0,null,0,0,null,1,1,null,1,1],\"y\":[0,1,1,0,0,0,1,1,0,0,null,1,1,null,0,0,null,1,1],\"z\":[0,0,0,0,0,0.5,0.5,0.5,0.5,0.5,null,0,0.5,null,0,0.5,null,0,0.5],\"type\":\"scatter3d\"},{\"color\":\"magenta\",\"flatshading\":true,\"i\":[7,0,0,0,4,4,6,6,4,0,3,2],\"j\":[3,4,1,2,5,6,5,2,0,1,6,3],\"k\":[0,7,2,3,6,7,1,1,5,5,7,6],\"x\":[0,0,1,1,0,0,1,1],\"y\":[0.7,0.8,0.8,0.7,0.7,0.8,0.8,0.7],\"z\":[0,0,0,0,0.5,0.5,0.5,0.5],\"type\":\"mesh3d\"},{\"color\":\"cyan\",\"flatshading\":true,\"i\":[7,0,0,0,4,4,6,6,4,0,3,2],\"j\":[3,4,1,2,5,6,5,2,0,1,6,3],\"k\":[0,7,2,3,6,7,1,1,5,5,7,6],\"x\":[0,0,0.211,0.211,0,0,0.5,0.5],\"y\":[0.39,0.49,0.49,0.39,0.1,0.2,0.2,0.1],\"z\":[0,0,0,0,0.5,0.5,0.5,0.5],\"type\":\"mesh3d\"},{\"color\":\"cyan\",\"flatshading\":true,\"i\":[7,0,0,0,4,4,6,6,4,0,3,2],\"j\":[3,4,1,2,5,6,5,2,0,1,6,3],\"k\":[0,7,2,3,6,7,1,1,5,5,7,6],\"x\":[0.211,0.211,1,1,0.5,0.5,1,1],\"y\":[0.49,0.59,0.59,0.49,0.2,0.3,0.3,0.2],\"z\":[0,0,0,0,0.5,0.5,0.5,0.5],\"type\":\"mesh3d\"},{\"color\":\"magenta\",\"flatshading\":true,\"i\":[7,0,0,0,4,4,6,6,4,0,3,2],\"j\":[3,4,1,2,5,6,5,2,0,1,6,3],\"k\":[0,7,2,3,6,7,1,1,5,5,7,6],\"x\":[0.5,0.5,1,1,0.6,0.6,1,1],\"y\":[0.7,0.8,0.8,0.7,0.7,0.8,0.8,0.7],\"z\":[0.5,0.5,0.5,0.5,0.6732,0.6732,0.6732,0.6732],\"type\":\"mesh3d\"},{\"color\":\"cyan\",\"flatshading\":true,\"i\":[7,0,0,0,4,4,6,6,4,0,3,2],\"j\":[3,4,1,2,5,6,5,2,0,1,6,3],\"k\":[0,7,2,3,6,7,1,1,5,5,7,6],\"x\":[0.5,0.5,1,1,0.6,0.6,1,1],\"y\":[0.2,0.3,0.3,0.2,0.1,0.2,0.2,0.1],\"z\":[0.5,0.5,0.5,0.5,0.6732,0.6732,0.6732,0.6732],\"type\":\"mesh3d\"},{\"opacity\":0.5,\"showscale\":false,\"surfacecolor\":[1,1,1,1],\"x\":[0.211,0.6],\"y\":[-0.1,1.1],\"z\":[[0,0.6732],[0,0.6732]],\"type\":\"surface\"},{\"line\":{\"color\":\"red\",\"width\":5},\"mode\":\"lines\",\"x\":[0.5,0.5],\"y\":[0,1],\"z\":[0.501,0.501],\"type\":\"scatter3d\"},{\"line\":{\"color\":\"black\",\"width\":2},\"mode\":\"lines+text\",\"text\":[\"\",\"\",\"\",\"60\",\"\",\"\",\"\",\"\",\"\",\"60\"],\"x\":[0.2,0.3,null,0.25,0.25,null,0.7,0.8,null,0.75,0.75],\"y\":[0.15,0.15,null,0.15,0.17,null,0.25,0.25,null,0.25,0.27],\"z\":[0.501,0.501,null,0.501,0.501,null,0.501,0.501,null,0.501,0.501],\"type\":\"scatter3d\"},{\"line\":{\"color\":\"black\",\"width\":2},\"mode\":\"lines\",\"x\":[0.2,0.3,null,0.25,0.25,null,0.7,0.8,null,0.75,0.75],\"y\":[0.75,0.75,null,0.73,0.77,null,0.75,0.75,null,0.73,0.77],\"z\":[0.501,0.501,null,0.501,0.501,null,0.501,0.501,null,0.501,0.501],\"type\":\"scatter3d\"},{\"line\":{\"color\":\"black\",\"width\":2},\"mode\":\"lines+text\",\"text\":[\"\",\"\",\"\",\"\",\"\",\"\",\"N\"],\"x\":[0.1,0.12,0.12,0.14,0.14,0.16,0.13,0.1],\"y\":[0.9,0.9,0.8,0.8,0.9,0.9,1,0.9],\"z\":[0.55,0.55,0.55,0.55,0.55,0.55,0.55,0.55],\"type\":\"scatter3d\"},{\"line\":{\"color\":\"black\",\"width\":5},\"mode\":\"lines+text\",\"text\":[\"\",\"100 m\",\"\"],\"x\":[0.7,0.8,0.9],\"y\":[1.05,1.05,1.05],\"z\":[0.55,0.55,0.55],\"type\":\"scatter3d\"}],                        {\"template\":{\"data\":{\"bar\":[{\"error_x\":{\"color\":\"#2a3f5f\"},\"error_y\":{\"color\":\"#2a3f5f\"},\"marker\":{\"line\":{\"color\":\"#E5ECF6\",\"width\":0.5},\"pattern\":{\"fillmode\":\"overlay\",\"size\":10,\"solidity\":0.2}},\"type\":\"bar\"}],\"barpolar\":[{\"marker\":{\"line\":{\"color\":\"#E5ECF6\",\"width\":0.5},\"pattern\":{\"fillmode\":\"overlay\",\"size\":10,\"solidity\":0.2}},\"type\":\"barpolar\"}],\"carpet\":[{\"aaxis\":{\"endlinecolor\":\"#2a3f5f\",\"gridcolor\":\"white\",\"linecolor\":\"white\",\"minorgridcolor\":\"white\",\"startlinecolor\":\"#2a3f5f\"},\"baxis\":{\"endlinecolor\":\"#2a3f5f\",\"gridcolor\":\"white\",\"linecolor\":\"white\",\"minorgridcolor\":\"white\",\"startlinecolor\":\"#2a3f5f\"},\"type\":\"carpet\"}],\"choropleth\":[{\"colorbar\":{\"outlinewidth\":0,\"ticks\":\"\"},\"type\":\"choropleth\"}],\"contour\":[{\"colorbar\":{\"outlinewidth\":0,\"ticks\":\"\"},\"colorscale\":[[0.0,\"#0d0887\"],[0.1111111111111111,\"#46039f\"],[0.2222222222222222,\"#7201a8\"],[0.3333333333333333,\"#9c179e\"],[0.4444444444444444,\"#bd3786\"],[0.5555555555555556,\"#d8576b\"],[0.6666666666666666,\"#ed7953\"],[0.7777777777777778,\"#fb9f3a\"],[0.8888888888888888,\"#fdca26\"],[1.0,\"#f0f921\"]],\"type\":\"contour\"}],\"contourcarpet\":[{\"colorbar\":{\"outlinewidth\":0,\"ticks\":\"\"},\"type\":\"contourcarpet\"}],\"heatmap\":[{\"colorbar\":{\"outlinewidth\":0,\"ticks\":\"\"},\"colorscale\":[[0.0,\"#0d0887\"],[0.1111111111111111,\"#46039f\"],[0.2222222222222222,\"#7201a8\"],[0.3333333333333333,\"#9c179e\"],[0.4444444444444444,\"#bd3786\"],[0.5555555555555556,\"#d8576b\"],[0.6666666666666666,\"#ed7953\"],[0.7777777777777778,\"#fb9f3a\"],[0.8888888888888888,\"#fdca26\"],[1.0,\"#f0f921\"]],\"type\":\"heatmap\"}],\"heatmapgl\":[{\"colorbar\":{\"outlinewidth\":0,\"ticks\":\"\"},\"colorscale\":[[0.0,\"#0d0887\"],[0.1111111111111111,\"#46039f\"],[0.2222222222222222,\"#7201a8\"],[0.3333333333333333,\"#9c179e\"],[0.4444444444444444,\"#bd3786\"],[0.5555555555555556,\"#d8576b\"],[0.6666666666666666,\"#ed7953\"],[0.7777777777777778,\"#fb9f3a\"],[0.8888888888888888,\"#fdca26\"],[1.0,\"#f0f921\"]],\"type\":\"heatmapgl\"}],\"histogram\":[{\"marker\":{\"pattern\":{\"fillmode\":\"overlay\",\"size\":10,\"solidity\":0.2}},\"type\":\"histogram\"}],\"histogram2d\":[{\"colorbar\":{\"outlinewidth\":0,\"ticks\":\"\"},\"colorscale\":[[0.0,\"#0d0887\"],[0.1111111111111111,\"#46039f\"],[0.2222222222222222,\"#7201a8\"],[0.3333333333333333,\"#9c179e\"],[0.4444444444444444,\"#bd3786\"],[0.5555555555555556,\"#d8576b\"],[0.6666666666666666,\"#ed7953\"],[0.7777777777777778,\"#fb9f3a\"],[0.8888888888888888,\"#fdca26\"],[1.0,\"#f0f921\"]],\"type\":\"histogram2d\"}],\"histogram2dcontour\":[{\"colorbar\":{\"outlinewidth\":0,\"ticks\":\"\"},\"colorscale\":[[0.0,\"#0d0887\"],[0.1111111111111111,\"#46039f\"],[0.2222222222222222,\"#7201a8\"],[0.3333333333333333,\"#9c179e\"],[0.4444444444444444,\"#bd3786\"],[0.5555555555555556,\"#d8576b\"],[0.6666666666666666,\"#ed7953\"],[0.7777777777777778,\"#fb9f3a\"],[0.8888888888888888,\"#fdca26\"],[1.0,\"#f0f921\"]],\"type\":\"histogram2dcontour\"}],\"mesh3d\":[{\"colorbar\":{\"outlinewidth\":0,\"ticks\":\"\"},\"type\":\"mesh3d\"}],\"parcoords\":[{\"line\":{\"colorbar\":{\"outlinewidth\":0,\"ticks\":\"\"}},\"type\":\"parcoords\"}],\"pie\":[{\"automargin\":true,\"type\":\"pie\"}],\"scatter\":[{\"marker\":{\"colorbar\":{\"outlinewidth\":0,\"ticks\":\"\"}},\"type\":\"scatter\"}],\"scatter3d\":[{\"line\":{\"colorbar\":{\"outlinewidth\":0,\"ticks\":\"\"}},\"marker\":{\"colorbar\":{\"outlinewidth\":0,\"ticks\":\"\"}},\"type\":\"scatter3d\"}],\"scattercarpet\":[{\"marker\":{\"colorbar\":{\"outlinewidth\":0,\"ticks\":\"\"}},\"type\":\"scattercarpet\"}],\"scattergeo\":[{\"marker\":{\"colorbar\":{\"outlinewidth\":0,\"ticks\":\"\"}},\"type\":\"scattergeo\"}],\"scattergl\":[{\"marker\":{\"colorbar\":{\"outlinewidth\":0,\"ticks\":\"\"}},\"type\":\"scattergl\"}],\"scattermapbox\":[{\"marker\":{\"colorbar\":{\"outlinewidth\":0,\"ticks\":\"\"}},\"type\":\"scattermapbox\"}],\"scatterpolar\":[{\"marker\":{\"colorbar\":{\"outlinewidth\":0,\"ticks\":\"\"}},\"type\":\"scatterpolar\"}],\"scatterpolargl\":[{\"marker\":{\"colorbar\":{\"outlinewidth\":0,\"ticks\":\"\"}},\"type\":\"scatterpolargl\"}],\"scatterternary\":[{\"marker\":{\"colorbar\":{\"outlinewidth\":0,\"ticks\":\"\"}},\"type\":\"scatterternary\"}],\"surface\":[{\"colorbar\":{\"outlinewidth\":0,\"ticks\":\"\"},\"colorscale\":[[0.0,\"#0d0887\"],[0.1111111111111111,\"#46039f\"],[0.2222222222222222,\"#7201a8\"],[0.3333333333333333,\"#9c179e\"],[0.4444444444444444,\"#bd3786\"],[0.5555555555555556,\"#d8576b\"],[0.6666666666666666,\"#ed7953\"],[0.7777777777777778,\"#fb9f3a\"],[0.8888888888888888,\"#fdca26\"],[1.0,\"#f0f921\"]],\"type\":\"surface\"}],\"table\":[{\"cells\":{\"fill\":{\"color\":\"#EBF0F8\"},\"line\":{\"color\":\"white\"}},\"header\":{\"fill\":{\"color\":\"#C8D4E3\"},\"line\":{\"color\":\"white\"}},\"type\":\"table\"}]},\"layout\":{\"annotationdefaults\":{\"arrowcolor\":\"#2a3f5f\",\"arrowhead\":0,\"arrowwidth\":1},\"autotypenumbers\":\"strict\",\"coloraxis\":{\"colorbar\":{\"outlinewidth\":0,\"ticks\":\"\"}},\"colorscale\":{\"diverging\":[[0,\"#8e0152\"],[0.1,\"#c51b7d\"],[0.2,\"#de77ae\"],[0.3,\"#f1b6da\"],[0.4,\"#fde0ef\"],[0.5,\"#f7f7f7\"],[0.6,\"#e6f5d0\"],[0.7,\"#b8e186\"],[0.8,\"#7fbc41\"],[0.9,\"#4d9221\"],[1,\"#276419\"]],\"sequential\":[[0.0,\"#0d0887\"],[0.1111111111111111,\"#46039f\"],[0.2222222222222222,\"#7201a8\"],[0.3333333333333333,\"#9c179e\"],[0.4444444444444444,\"#bd3786\"],[0.5555555555555556,\"#d8576b\"],[0.6666666666666666,\"#ed7953\"],[0.7777777777777778,\"#fb9f3a\"],[0.8888888888888888,\"#fdca26\"],[1.0,\"#f0f921\"]],\"sequentialminus\":[[0.0,\"#0d0887\"],[0.1111111111111111,\"#46039f\"],[0.2222222222222222,\"#7201a8\"],[0.3333333333333333,\"#9c179e\"],[0.4444444444444444,\"#bd3786\"],[0.5555555555555556,\"#d8576b\"],[0.6666666666666666,\"#ed7953\"],[0.7777777777777778,\"#fb9f3a\"],[0.8888888888888888,\"#fdca26\"],[1.0,\"#f0f921\"]]},\"colorway\":[\"#636efa\",\"#EF553B\",\"#00cc96\",\"#ab63fa\",\"#FFA15A\",\"#19d3f3\",\"#FF6692\",\"#B6E880\",\"#FF97FF\",\"#FECB52\"],\"font\":{\"color\":\"#2a3f5f\"},\"geo\":{\"bgcolor\":\"white\",\"lakecolor\":\"white\",\"landcolor\":\"#E5ECF6\",\"showlakes\":true,\"showland\":true,\"subunitcolor\":\"white\"},\"hoverlabel\":{\"align\":\"left\"},\"hovermode\":\"closest\",\"mapbox\":{\"style\":\"light\"},\"paper_bgcolor\":\"white\",\"plot_bgcolor\":\"#E5ECF6\",\"polar\":{\"angularaxis\":{\"gridcolor\":\"white\",\"linecolor\":\"white\",\"ticks\":\"\"},\"bgcolor\":\"#E5ECF6\",\"radialaxis\":{\"gridcolor\":\"white\",\"linecolor\":\"white\",\"ticks\":\"\"}},\"scene\":{\"xaxis\":{\"backgroundcolor\":\"#E5ECF6\",\"gridcolor\":\"white\",\"gridwidth\":2,\"linecolor\":\"white\",\"showbackground\":true,\"ticks\":\"\",\"zerolinecolor\":\"white\"},\"yaxis\":{\"backgroundcolor\":\"#E5ECF6\",\"gridcolor\":\"white\",\"gridwidth\":2,\"linecolor\":\"white\",\"showbackground\":true,\"ticks\":\"\",\"zerolinecolor\":\"white\"},\"zaxis\":{\"backgroundcolor\":\"#E5ECF6\",\"gridcolor\":\"white\",\"gridwidth\":2,\"linecolor\":\"white\",\"showbackground\":true,\"ticks\":\"\",\"zerolinecolor\":\"white\"}},\"shapedefaults\":{\"line\":{\"color\":\"#2a3f5f\"}},\"ternary\":{\"aaxis\":{\"gridcolor\":\"white\",\"linecolor\":\"white\",\"ticks\":\"\"},\"baxis\":{\"gridcolor\":\"white\",\"linecolor\":\"white\",\"ticks\":\"\"},\"bgcolor\":\"#E5ECF6\",\"caxis\":{\"gridcolor\":\"white\",\"linecolor\":\"white\",\"ticks\":\"\"}},\"title\":{\"x\":0.05},\"xaxis\":{\"automargin\":true,\"gridcolor\":\"white\",\"linecolor\":\"white\",\"ticks\":\"\",\"title\":{\"standoff\":15},\"zerolinecolor\":\"white\",\"zerolinewidth\":2},\"yaxis\":{\"automargin\":true,\"gridcolor\":\"white\",\"linecolor\":\"white\",\"ticks\":\"\",\"title\":{\"standoff\":15},\"zerolinecolor\":\"white\",\"zerolinewidth\":2}}},\"scene\":{\"xaxis\":{\"visible\":false},\"yaxis\":{\"visible\":false},\"zaxis\":{\"visible\":false},\"camera\":{\"eye\":{\"x\":0,\"y\":0,\"z\":2},\"up\":{\"x\":0,\"y\":1,\"z\":0}}},\"margin\":{\"r\":0,\"l\":0,\"b\":0,\"t\":0},\"showlegend\":false},                        {\"responsive\": true}                    ).then(function(){\n",
       "                            \n",
       "var gd = document.getElementById('a9bb1345-82b0-4333-af7f-d003c895970b');\n",
       "var x = new MutationObserver(function (mutations, observer) {{\n",
       "        var display = window.getComputedStyle(gd).display;\n",
       "        if (!display || display === 'none') {{\n",
       "            console.log([gd, 'removed!']);\n",
       "            Plotly.purge(gd);\n",
       "            observer.disconnect();\n",
       "        }}\n",
       "}});\n",
       "\n",
       "// Listen for the removal of the full notebook cells\n",
       "var notebookContainer = gd.closest('#notebook-container');\n",
       "if (notebookContainer) {{\n",
       "    x.observe(notebookContainer, {childList: true});\n",
       "}}\n",
       "\n",
       "// Listen for the clearing of the current output cell\n",
       "var outputEl = gd.closest('.output');\n",
       "if (outputEl) {{\n",
       "    x.observe(outputEl, {childList: true});\n",
       "}}\n",
       "\n",
       "                        })                };                });            </script>        </div>"
      ]
     },
     "metadata": {},
     "output_type": "display_data"
    }
   ],
   "source": [
    "fig = go.Figure(data=[\n",
    "    block,\n",
    "#    bigger_block,\n",
    "    block_edge,\n",
    "    bed1, bed2a, bed2b,\n",
    "    bed1_eroded, bed2b_eroded,\n",
    "    fault_plane,\n",
    "    fault_trace,\n",
    "    dip_notes,\n",
    "    dip_notes1,\n",
    "    north_arrow,\n",
    "    map_scale\n",
    "])\n",
    "\n",
    "fig.update_scenes(xaxis_visible = False,\n",
    "                  yaxis_visible = False,\n",
    "                  zaxis_visible = False)\n",
    "\n",
    "fig.update_layout(margin = dict(r=0, l=0, b=0, t=0),\n",
    "                showlegend = False,\n",
    "                scene_camera = dict(eye=dict(x=0, y=0, z=2),\n",
    "                                   up=dict(x=0, y=1, z=0))\n",
    "                )\n",
    "\n",
    "fig.show()"
   ]
  }
 ],
 "metadata": {
  "kernelspec": {
   "display_name": "Python 3 (ipykernel)",
   "language": "python",
   "name": "python3"
  },
  "language_info": {
   "codemirror_mode": {
    "name": "ipython",
    "version": 3
   },
   "file_extension": ".py",
   "mimetype": "text/x-python",
   "name": "python",
   "nbconvert_exporter": "python",
   "pygments_lexer": "ipython3",
   "version": "3.7.3"
  },
  "toc-autonumbering": false,
  "toc-showcode": false,
  "toc-showmarkdowntxt": false
 },
 "nbformat": 4,
 "nbformat_minor": 5
}
